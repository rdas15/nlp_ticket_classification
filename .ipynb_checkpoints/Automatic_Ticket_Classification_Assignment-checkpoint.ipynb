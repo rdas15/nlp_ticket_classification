{
 "cells": [
  {
   "cell_type": "markdown",
   "metadata": {
    "id": "rhR-ZUkwJrFn"
   },
   "source": [
    "## Problem Statement\n",
    "\n",
    "You need to build a model that is able to classify customer complaints based on the products/services. By doing so, you can segregate these tickets into their relevant categories and, therefore, help in the quick resolution of the issue.\n",
    "\n",
    "You will be doing topic modelling on the <b>.json</b> data provided by the company. Since this data is not labelled, you need to apply NMF to analyse patterns and classify tickets into the following five clusters based on their products/services:\n",
    "\n",
    "* Credit card / Prepaid card\n",
    "\n",
    "* Bank account services\n",
    "\n",
    "* Theft/Dispute reporting\n",
    "\n",
    "* Mortgages/loans\n",
    "\n",
    "* Others\n",
    "\n",
    "\n",
    "With the help of topic modelling, you will be able to map each ticket onto its respective department/category. You can then use this data to train any supervised model such as logistic regression, decision tree or random forest. Using this trained model, you can classify any new customer complaint support ticket into its relevant department."
   ]
  },
  {
   "cell_type": "markdown",
   "metadata": {
    "id": "mcgXVNyaLUFS"
   },
   "source": [
    "## Pipelines that needs to be performed:\n",
    "\n",
    "You need to perform the following eight major tasks to complete the assignment:\n",
    "\n",
    "1.  Data loading\n",
    "\n",
    "2. Text preprocessing\n",
    "\n",
    "3. Exploratory data analysis (EDA)\n",
    "\n",
    "4. Feature extraction\n",
    "\n",
    "5. Topic modelling\n",
    "\n",
    "6. Model building using supervised learning\n",
    "\n",
    "7. Model training and evaluation\n",
    "\n",
    "8. Model inference"
   ]
  },
  {
   "cell_type": "markdown",
   "metadata": {
    "id": "JuLFIymAL58u"
   },
   "source": [
    "## Importing the necessary libraries"
   ]
  },
  {
   "cell_type": "code",
   "execution_count": 214,
   "metadata": {
    "id": "O-Q9pqrcJrFr"
   },
   "outputs": [],
   "source": [
    "import json\n",
    "import numpy as np\n",
    "import pandas as pd\n",
    "import re, nltk, spacy, string\n",
    "import en_core_web_sm\n",
    "nlp = en_core_web_sm.load()\n",
    "import seaborn as sns\n",
    "import matplotlib.pyplot as plt\n",
    "%matplotlib inline\n",
    "\n",
    "from plotly.offline import plot\n",
    "import plotly.graph_objects as go\n",
    "import plotly.express as px\n",
    "\n",
    "from sklearn.feature_extraction.text import CountVectorizer, TfidfVectorizer\n",
    "from pprint import pprint"
   ]
  },
  {
   "cell_type": "markdown",
   "metadata": {
    "id": "KtRLCsNVJrFt"
   },
   "source": [
    "## Loading the data\n",
    "\n",
    "The data is in JSON format and we need to convert it to a dataframe."
   ]
  },
  {
   "cell_type": "code",
   "execution_count": 216,
   "metadata": {
    "id": "puVzIf_iJrFt"
   },
   "outputs": [],
   "source": [
    "# Opening JSON file\n",
    "#f = # Write the path to your data file and load it\n",
    "with open(\"complaints-2021-05-14_08_16.json\", \"r\") as file:\n",
    "    data = json.load(file)\n",
    "\n",
    "df=pd.json_normalize(data)\n"
   ]
  },
  {
   "cell_type": "markdown",
   "metadata": {
    "id": "_xYpH-sAJrFu"
   },
   "source": [
    "## Data preparation"
   ]
  },
  {
   "cell_type": "code",
   "execution_count": 218,
   "metadata": {
    "id": "Lf8ufHH5JrFu"
   },
   "outputs": [
    {
     "name": "stdout",
     "output_type": "stream",
     "text": [
      "                _index      _type      _id  _score   _source.tags  \\\n",
      "0  complaint-public-v2  complaint  3211475     0.0           None   \n",
      "1  complaint-public-v2  complaint  3229299     0.0  Servicemember   \n",
      "2  complaint-public-v2  complaint  3199379     0.0           None   \n",
      "3  complaint-public-v2  complaint  2673060     0.0           None   \n",
      "4  complaint-public-v2  complaint  3203545     0.0           None   \n",
      "\n",
      "  _source.zip_code _source.complaint_id                       _source.issue  \\\n",
      "0            90301              3211475   Attempts to collect debt not owed   \n",
      "1            319XX              3229299     Written notification about debt   \n",
      "2            77069              3199379  Other features, terms, or problems   \n",
      "3            48066              2673060      Trouble during payment process   \n",
      "4            10473              3203545                    Fees or interest   \n",
      "\n",
      "       _source.date_received _source.state  ... _source.company_response  \\\n",
      "0  2019-04-13T12:00:00-05:00            CA  ...  Closed with explanation   \n",
      "1  2019-05-01T12:00:00-05:00            GA  ...  Closed with explanation   \n",
      "2  2019-04-02T12:00:00-05:00            TX  ...  Closed with explanation   \n",
      "3  2017-09-13T12:00:00-05:00            MI  ...  Closed with explanation   \n",
      "4  2019-04-05T12:00:00-05:00            NY  ...  Closed with explanation   \n",
      "\n",
      "        _source.company _source.submitted_via _source.date_sent_to_company  \\\n",
      "0  JPMORGAN CHASE & CO.                   Web    2019-04-13T12:00:00-05:00   \n",
      "1  JPMORGAN CHASE & CO.                   Web    2019-05-01T12:00:00-05:00   \n",
      "2  JPMORGAN CHASE & CO.                   Web    2019-04-02T12:00:00-05:00   \n",
      "3  JPMORGAN CHASE & CO.                   Web    2017-09-14T12:00:00-05:00   \n",
      "4  JPMORGAN CHASE & CO.              Referral    2019-04-05T12:00:00-05:00   \n",
      "\n",
      "  _source.company_public_response                         _source.sub_product  \\\n",
      "0                            None                            Credit card debt   \n",
      "1                            None                            Credit card debt   \n",
      "2                            None  General-purpose credit card or charge card   \n",
      "3                            None                  Conventional home mortgage   \n",
      "4                            None  General-purpose credit card or charge card   \n",
      "\n",
      "  _source.timely                    _source.complaint_what_happened  \\\n",
      "0            Yes                                                      \n",
      "1            Yes  Good morning my name is XXXX XXXX and I apprec...   \n",
      "2            Yes  I upgraded my XXXX XXXX card in XX/XX/2018 and...   \n",
      "3            Yes                                                      \n",
      "4            Yes                                                      \n",
      "\n",
      "                                  _source.sub_issue  \\\n",
      "0                                 Debt is not yours   \n",
      "1  Didn't receive enough information to verify debt   \n",
      "2             Problem with rewards from credit card   \n",
      "3                                              None   \n",
      "4                         Charged too much interest   \n",
      "\n",
      "  _source.consumer_consent_provided  \n",
      "0              Consent not provided  \n",
      "1                  Consent provided  \n",
      "2                  Consent provided  \n",
      "3              Consent not provided  \n",
      "4                               N/A  \n",
      "\n",
      "[5 rows x 22 columns]\n",
      "<bound method DataFrame.info of                     _index      _type      _id  _score   _source.tags  \\\n",
      "0      complaint-public-v2  complaint  3211475     0.0           None   \n",
      "1      complaint-public-v2  complaint  3229299     0.0  Servicemember   \n",
      "2      complaint-public-v2  complaint  3199379     0.0           None   \n",
      "3      complaint-public-v2  complaint  2673060     0.0           None   \n",
      "4      complaint-public-v2  complaint  3203545     0.0           None   \n",
      "...                    ...        ...      ...     ...            ...   \n",
      "78308  complaint-public-v2  complaint  3105617     0.0           None   \n",
      "78309  complaint-public-v2  complaint  3091984     0.0           None   \n",
      "78310  complaint-public-v2  complaint  3133355     0.0           None   \n",
      "78311  complaint-public-v2  complaint  3110963     0.0           None   \n",
      "78312  complaint-public-v2  complaint  2001189     0.0           None   \n",
      "\n",
      "      _source.zip_code _source.complaint_id  \\\n",
      "0                90301              3211475   \n",
      "1                319XX              3229299   \n",
      "2                77069              3199379   \n",
      "3                48066              2673060   \n",
      "4                10473              3203545   \n",
      "...                ...                  ...   \n",
      "78308            08857              3105617   \n",
      "78309            934XX              3091984   \n",
      "78310            923XX              3133355   \n",
      "78311             None              3110963   \n",
      "78312             None              2001189   \n",
      "\n",
      "                                           _source.issue  \\\n",
      "0                      Attempts to collect debt not owed   \n",
      "1                        Written notification about debt   \n",
      "2                     Other features, terms, or problems   \n",
      "3                         Trouble during payment process   \n",
      "4                                       Fees or interest   \n",
      "...                                                  ...   \n",
      "78308                                 Closing an account   \n",
      "78309                 Other features, terms, or problems   \n",
      "78310  Problem with a lender or other company chargin...   \n",
      "78311                 Other features, terms, or problems   \n",
      "78312                       Payment to acct not credited   \n",
      "\n",
      "           _source.date_received _source.state  ...  \\\n",
      "0      2019-04-13T12:00:00-05:00            CA  ...   \n",
      "1      2019-05-01T12:00:00-05:00            GA  ...   \n",
      "2      2019-04-02T12:00:00-05:00            TX  ...   \n",
      "3      2017-09-13T12:00:00-05:00            MI  ...   \n",
      "4      2019-04-05T12:00:00-05:00            NY  ...   \n",
      "...                          ...           ...  ...   \n",
      "78308  2018-12-20T12:00:00-05:00            NJ  ...   \n",
      "78309  2018-12-05T12:00:00-05:00            CA  ...   \n",
      "78310  2019-01-25T12:00:00-05:00            CA  ...   \n",
      "78311  2018-12-27T12:00:00-05:00            PA  ...   \n",
      "78312  2016-07-06T12:00:00-05:00            MI  ...   \n",
      "\n",
      "          _source.company_response       _source.company  \\\n",
      "0          Closed with explanation  JPMORGAN CHASE & CO.   \n",
      "1          Closed with explanation  JPMORGAN CHASE & CO.   \n",
      "2          Closed with explanation  JPMORGAN CHASE & CO.   \n",
      "3          Closed with explanation  JPMORGAN CHASE & CO.   \n",
      "4          Closed with explanation  JPMORGAN CHASE & CO.   \n",
      "...                            ...                   ...   \n",
      "78308      Closed with explanation  JPMORGAN CHASE & CO.   \n",
      "78309  Closed with monetary relief  JPMORGAN CHASE & CO.   \n",
      "78310      Closed with explanation  JPMORGAN CHASE & CO.   \n",
      "78311  Closed with monetary relief  JPMORGAN CHASE & CO.   \n",
      "78312      Closed with explanation  JPMORGAN CHASE & CO.   \n",
      "\n",
      "      _source.submitted_via _source.date_sent_to_company  \\\n",
      "0                       Web    2019-04-13T12:00:00-05:00   \n",
      "1                       Web    2019-05-01T12:00:00-05:00   \n",
      "2                       Web    2019-04-02T12:00:00-05:00   \n",
      "3                       Web    2017-09-14T12:00:00-05:00   \n",
      "4                  Referral    2019-04-05T12:00:00-05:00   \n",
      "...                     ...                          ...   \n",
      "78308                   Web    2018-12-21T12:00:00-05:00   \n",
      "78309                   Web    2018-12-05T12:00:00-05:00   \n",
      "78310                   Web    2019-01-25T12:00:00-05:00   \n",
      "78311                   Web    2018-12-27T12:00:00-05:00   \n",
      "78312                   Web    2016-07-07T12:00:00-05:00   \n",
      "\n",
      "      _source.company_public_response  \\\n",
      "0                                None   \n",
      "1                                None   \n",
      "2                                None   \n",
      "3                                None   \n",
      "4                                None   \n",
      "...                               ...   \n",
      "78308                            None   \n",
      "78309                            None   \n",
      "78310                            None   \n",
      "78311                            None   \n",
      "78312                            None   \n",
      "\n",
      "                              _source.sub_product _source.timely  \\\n",
      "0                                Credit card debt            Yes   \n",
      "1                                Credit card debt            Yes   \n",
      "2      General-purpose credit card or charge card            Yes   \n",
      "3                      Conventional home mortgage            Yes   \n",
      "4      General-purpose credit card or charge card            Yes   \n",
      "...                                           ...            ...   \n",
      "78308                            Checking account            Yes   \n",
      "78309  General-purpose credit card or charge card            Yes   \n",
      "78310                            Checking account            Yes   \n",
      "78311  General-purpose credit card or charge card            Yes   \n",
      "78312                                        None            Yes   \n",
      "\n",
      "                         _source.complaint_what_happened  \\\n",
      "0                                                          \n",
      "1      Good morning my name is XXXX XXXX and I apprec...   \n",
      "2      I upgraded my XXXX XXXX card in XX/XX/2018 and...   \n",
      "3                                                          \n",
      "4                                                          \n",
      "...                                                  ...   \n",
      "78308                                                      \n",
      "78309  On Wednesday, XX/XX/XXXX I called Chas, my XXX...   \n",
      "78310  I am not familiar with XXXX pay and did not un...   \n",
      "78311  I have had flawless credit for 30 yrs. I've ha...   \n",
      "78312  Roughly 10+ years ago I closed out my accounts...   \n",
      "\n",
      "                                      _source.sub_issue  \\\n",
      "0                                     Debt is not yours   \n",
      "1      Didn't receive enough information to verify debt   \n",
      "2                 Problem with rewards from credit card   \n",
      "3                                                  None   \n",
      "4                             Charged too much interest   \n",
      "...                                                 ...   \n",
      "78308            Funds not received from closed account   \n",
      "78309                                     Other problem   \n",
      "78310                    Transaction was not authorized   \n",
      "78311                     Problem with balance transfer   \n",
      "78312                                              None   \n",
      "\n",
      "      _source.consumer_consent_provided  \n",
      "0                  Consent not provided  \n",
      "1                      Consent provided  \n",
      "2                      Consent provided  \n",
      "3                  Consent not provided  \n",
      "4                                   N/A  \n",
      "...                                 ...  \n",
      "78308              Consent not provided  \n",
      "78309                  Consent provided  \n",
      "78310                  Consent provided  \n",
      "78311                  Consent provided  \n",
      "78312                  Consent provided  \n",
      "\n",
      "[78313 rows x 22 columns]>\n"
     ]
    }
   ],
   "source": [
    "# Inspect the dataframe to understand the given data.\n",
    "print(df.head())\n",
    "\n",
    "print(df.info)\n"
   ]
  },
  {
   "cell_type": "code",
   "execution_count": 219,
   "metadata": {
    "id": "Dwcty-wmJrFw"
   },
   "outputs": [
    {
     "name": "stdout",
     "output_type": "stream",
     "text": [
      "Index(['_index', '_type', '_id', '_score', '_source.tags', '_source.zip_code',\n",
      "       '_source.complaint_id', '_source.issue', '_source.date_received',\n",
      "       '_source.state', '_source.consumer_disputed', '_source.product',\n",
      "       '_source.company_response', '_source.company', '_source.submitted_via',\n",
      "       '_source.date_sent_to_company', '_source.company_public_response',\n",
      "       '_source.sub_product', '_source.timely',\n",
      "       '_source.complaint_what_happened', '_source.sub_issue',\n",
      "       '_source.consumer_consent_provided'],\n",
      "      dtype='object')\n"
     ]
    }
   ],
   "source": [
    "#print the column names\n",
    "print(df.columns)"
   ]
  },
  {
   "cell_type": "code",
   "execution_count": 220,
   "metadata": {
    "id": "FYCtKXD1JrFw"
   },
   "outputs": [
    {
     "name": "stdout",
     "output_type": "stream",
     "text": [
      "Index(['source_index', 'type', 'id', 'score', 'tags', 'zip_code',\n",
      "       'complaint_id', 'issue', 'date_received', 'state', 'consumer_disputed',\n",
      "       'product', 'company_response', 'company', 'submitted_via',\n",
      "       'date_sent_to_company', 'company_public_response', 'sub_product',\n",
      "       'timely', 'complaint_what_happened', 'sub_issue',\n",
      "       'consumer_consent_provided'],\n",
      "      dtype='object')\n"
     ]
    }
   ],
   "source": [
    "#Assign new column names\n",
    "df.columns = df.columns.str.replace(r'^_source\\.', '', regex=True)\n",
    "df= df.rename(columns={'_index':'source_index'})\n",
    "df.columns = df.columns.str.lstrip('_')\n",
    "print(df.columns)"
   ]
  },
  {
   "cell_type": "code",
   "execution_count": 221,
   "metadata": {
    "id": "grQUPFL5JrFx"
   },
   "outputs": [
    {
     "name": "stdout",
     "output_type": "stream",
     "text": [
      "source_index                     0\n",
      "type                             0\n",
      "id                               0\n",
      "score                            0\n",
      "tags                         67413\n",
      "zip_code                      6757\n",
      "complaint_id                     0\n",
      "issue                            0\n",
      "date_received                    0\n",
      "state                         1991\n",
      "consumer_disputed                0\n",
      "product                          0\n",
      "company_response                 0\n",
      "company                          0\n",
      "submitted_via                    0\n",
      "date_sent_to_company             0\n",
      "company_public_response      78309\n",
      "sub_product                  10571\n",
      "timely                           0\n",
      "complaint_what_happened      57241\n",
      "sub_issue                    46297\n",
      "consumer_consent_provided     1008\n",
      "dtype: int64\n"
     ]
    }
   ],
   "source": [
    "#Assign nan in place of blanks in the complaints column\n",
    "#df['issue'] = df['issue'].replace(\"\", np.nan)\n",
    "#print(df['issue'].value_counts)\n",
    "df['complaint_what_happened'] = df['complaint_what_happened'].apply(lambda x: np.nan if str(x).strip() == \"\" else x)\n",
    "print(df.isnull().sum())\n"
   ]
  },
  {
   "cell_type": "code",
   "execution_count": 222,
   "metadata": {
    "id": "Jfxd8VSmJrFy"
   },
   "outputs": [
    {
     "name": "stdout",
     "output_type": "stream",
     "text": [
      "Length of df before dropping nan values from complaints= 1722886\n",
      "Length of df after dropping nan values from complaints= 463584\n"
     ]
    }
   ],
   "source": [
    "#Remove all rows where complaints column is nan\n",
    "print(f\"Length of df before dropping nan values from complaints= {df.size}\")\n",
    "df = df.dropna(subset=['complaint_what_happened'])\n",
    "print(f\"Length of df after dropping nan values from complaints= {df.size}\")"
   ]
  },
  {
   "cell_type": "markdown",
   "metadata": {
    "id": "L944HZpsJrFy"
   },
   "source": [
    "## Prepare the text for topic modeling\n",
    "\n",
    "Once you have removed all the blank complaints, you need to:\n",
    "\n",
    "* Make the text lowercase\n",
    "* Remove text in square brackets\n",
    "* Remove punctuation\n",
    "* Remove words containing numbers\n",
    "\n",
    "\n",
    "Once you have done these cleaning operations you need to perform the following:\n",
    "* Lemmatize the texts\n",
    "* Extract the POS tags of the lemmatized text and remove all the words which have tags other than NN[tag == \"NN\"].\n"
   ]
  },
  {
   "cell_type": "code",
   "execution_count": 231,
   "metadata": {
    "id": "qm7SjjSkJrFz"
   },
   "outputs": [
    {
     "name": "stdout",
     "output_type": "stream",
     "text": [
      "1     good morning my name is and i appreciate it if...\n",
      "2     i upgraded my card in and was told by the agen...\n",
      "10    chase card was reported on however fraudulent ...\n",
      "11    on while trying to book a ticket i came across...\n",
      "14    my grand son give me check for i deposit it in...\n",
      "15                        can you please remove inquiry\n",
      "17    with out notice jp morgan chase restricted my ...\n",
      "20    during the summer months i a decline income du...\n",
      "21    on i made a payment to an online retailer usin...\n",
      "23    i have a chase credit card which is incorrectl...\n",
      "Name: complaint_what_happened, dtype: object\n"
     ]
    }
   ],
   "source": [
    "# Write your function here to clean the text and remove all the unnecessary elements.\n",
    "import string\n",
    "# 1. Make the text lowercase\n",
    "df['complaint_what_happened'] = df['complaint_what_happened'].str.lower()\n",
    "\n",
    "# 2. Remove text in square brackets\n",
    "df['complaint_what_happened'] = df['complaint_what_happened'].str.replace(r'\\[.*?\\]', '', regex=True)\n",
    "\n",
    "# 3. Remove punctuation\n",
    "df['complaint_what_happened'] = df['complaint_what_happened'].str.replace(f\"[{string.punctuation}]\", \"\", regex=True)\n",
    "\n",
    "# 4. Remove words containing numbers\n",
    "df['complaint_what_happened'] = df['complaint_what_happened'].str.replace(\n",
    "    r\"\\b\\w*\\d\\w*\\b\", \"\", regex=True).str.replace(r\"\\s+\", \" \", regex=True).str.strip()\n",
    "\n",
    "# 5. Remove words with XXX\n",
    "df['complaint_what_happened'] = df['complaint_what_happened'].str.replace(\n",
    "    r\"\\b\\w*x\\w*\\b\", \"\", regex=True).str.replace(r\"\\s+\", \" \", regex=True).str.strip()\n",
    "\n",
    "print(df['complaint_what_happened'].head(10))"
   ]
  },
  {
   "cell_type": "code",
   "execution_count": null,
   "metadata": {
    "id": "zgOu8t8HJrFz"
   },
   "outputs": [],
   "source": [
    "#Write your function to Lemmatize the texts\n",
    "import spacy\n",
    "\n",
    "nlp=spacy.load('en_core_web_sm',disable=['parser','ner'])\n",
    "\n",
    "def lemmatize_text(text):\n",
    "    doc = nlp(text)\n",
    "    lemmatized_text = \" \".join([token.lemma_ for token in doc])\n",
    "    return lemmatized_text"
   ]
  },
  {
   "cell_type": "code",
   "execution_count": null,
   "metadata": {
    "id": "uXnN7aa_JrF0"
   },
   "outputs": [],
   "source": [
    "#Create a dataframe('df_clean') that will have only the complaints and the lemmatized complaints\n",
    "df = df.rename(columns={'complaint_what_happened': 'complaint_text'})\n",
    "df['complaint_text_lemmatized'] = df['complaint_text'].apply(lemmatize_text)\n",
    "df_clean = df[['complaint_text', 'complaint_text_lemmatized']]\n",
    "df_clean.head(10)"
   ]
  },
  {
   "cell_type": "code",
   "execution_count": null,
   "metadata": {
    "id": "nOiDVvEIJrF0"
   },
   "outputs": [],
   "source": [
    "df_clean"
   ]
  },
  {
   "cell_type": "code",
   "execution_count": null,
   "metadata": {
    "id": "Kk7fc4DuJrF1"
   },
   "outputs": [],
   "source": [
    "#Write your function to extract the POS tags\n",
    "\n",
    "def pos_tag(text):\n",
    "  # write your code here\n",
    "\n",
    "\n",
    "\n",
    "df_clean[\"complaint_POS_removed\"] =  #this column should contain lemmatized text with all the words removed which have tags other than NN[tag == \"NN\"].\n"
   ]
  },
  {
   "cell_type": "code",
   "execution_count": null,
   "metadata": {
    "id": "AjxfchvFJrF2"
   },
   "outputs": [],
   "source": [
    "#The clean dataframe should now contain the raw complaint, lemmatized complaint and the complaint after removing POS tags.\n",
    "df_clean"
   ]
  },
  {
   "cell_type": "markdown",
   "metadata": {
    "id": "_7Un1AElJrF2"
   },
   "source": [
    "## Exploratory data analysis to get familiar with the data.\n",
    "\n",
    "Write the code in this task to perform the following:\n",
    "\n",
    "*   Visualise the data according to the 'Complaint' character length\n",
    "*   Using a word cloud find the top 40 words by frequency among all the articles after processing the text\n",
    "*   Find the top unigrams,bigrams and trigrams by frequency among all the complaints after processing the text. ‘\n",
    "\n",
    "\n"
   ]
  },
  {
   "cell_type": "code",
   "execution_count": null,
   "metadata": {
    "id": "q-zaqJF6JrF2"
   },
   "outputs": [],
   "source": [
    "# Write your code here to visualise the data according to the 'Complaint' character length"
   ]
  },
  {
   "cell_type": "markdown",
   "metadata": {
    "id": "T9jD_6SeJrF3"
   },
   "source": [
    "#### Find the top 40 words by frequency among all the articles after processing the text."
   ]
  },
  {
   "cell_type": "code",
   "execution_count": null,
   "metadata": {
    "id": "QcfdvtfZJrF3"
   },
   "outputs": [],
   "source": [
    "#Using a word cloud find the top 40 words by frequency among all the articles after processing the text\n"
   ]
  },
  {
   "cell_type": "code",
   "execution_count": null,
   "metadata": {
    "id": "OkSmc3UaJrF4"
   },
   "outputs": [],
   "source": [
    "#Removing -PRON- from the text corpus\n",
    "df_clean['Complaint_clean'] = df_clean['complaint_POS_removed'].str.replace('-PRON-', '')"
   ]
  },
  {
   "cell_type": "markdown",
   "metadata": {
    "id": "5DfCSbbmJrF4"
   },
   "source": [
    "#### Find the top unigrams,bigrams and trigrams by frequency among all the complaints after processing the text."
   ]
  },
  {
   "cell_type": "code",
   "execution_count": null,
   "metadata": {
    "id": "5mbk5DS5JrF4"
   },
   "outputs": [],
   "source": [
    "#Write your code here to find the top 30 unigram frequency among the complaints in the cleaned datafram(df_clean).\n"
   ]
  },
  {
   "cell_type": "code",
   "execution_count": null,
   "metadata": {
    "id": "YX7fedm1JrF8"
   },
   "outputs": [],
   "source": [
    "#Print the top 10 words in the unigram frequency\n"
   ]
  },
  {
   "cell_type": "code",
   "execution_count": null,
   "metadata": {
    "id": "aV7kD7w8JrF8"
   },
   "outputs": [],
   "source": [
    "#Write your code here to find the top 30 bigram frequency among the complaints in the cleaned datafram(df_clean).\n"
   ]
  },
  {
   "cell_type": "code",
   "execution_count": null,
   "metadata": {
    "id": "NPnMNIpyJrF9"
   },
   "outputs": [],
   "source": [
    "#Print the top 10 words in the bigram frequency"
   ]
  },
  {
   "cell_type": "code",
   "execution_count": null,
   "metadata": {
    "id": "Xkh7vtbtJrF-"
   },
   "outputs": [],
   "source": [
    "#Write your code here to find the top 30 trigram frequency among the complaints in the cleaned datafram(df_clean).\n"
   ]
  },
  {
   "cell_type": "code",
   "execution_count": null,
   "metadata": {
    "id": "REcVxNfvJrF-"
   },
   "outputs": [],
   "source": [
    "#Print the top 10 words in the trigram frequency"
   ]
  },
  {
   "cell_type": "markdown",
   "metadata": {
    "id": "yUXzFji0JrF_"
   },
   "source": [
    "## The personal details of customer has been masked in the dataset with xxxx. Let's remove the masked text as this will be of no use for our analysis"
   ]
  },
  {
   "cell_type": "code",
   "execution_count": null,
   "metadata": {
    "id": "wKda-a_IJrF_"
   },
   "outputs": [],
   "source": [
    "df_clean['Complaint_clean'] = df_clean['Complaint_clean'].str.replace('xxxx','')"
   ]
  },
  {
   "cell_type": "code",
   "execution_count": null,
   "metadata": {
    "id": "9UIFk8fQJrF_"
   },
   "outputs": [],
   "source": [
    "#All masked texts has been removed\n",
    "df_clean"
   ]
  },
  {
   "cell_type": "markdown",
   "metadata": {
    "id": "k-I0k0QtJrGA"
   },
   "source": [
    "## Feature Extraction\n",
    "Convert the raw texts to a matrix of TF-IDF features\n",
    "\n",
    "**max_df** is used for removing terms that appear too frequently, also known as \"corpus-specific stop words\"\n",
    "max_df = 0.95 means \"ignore terms that appear in more than 95% of the complaints\"\n",
    "\n",
    "**min_df** is used for removing terms that appear too infrequently\n",
    "min_df = 2 means \"ignore terms that appear in less than 2 complaints\""
   ]
  },
  {
   "cell_type": "code",
   "execution_count": null,
   "metadata": {
    "id": "Y8fGwaCPJrGA"
   },
   "outputs": [],
   "source": [
    "#Write your code here to initialise the TfidfVectorizer\n",
    "\n"
   ]
  },
  {
   "cell_type": "markdown",
   "metadata": {
    "id": "yYzD85nTJrGA"
   },
   "source": [
    "#### Create a document term matrix using fit_transform\n",
    "\n",
    "The contents of a document term matrix are tuples of (complaint_id,token_id) tf-idf score:\n",
    "The tuples that are not there have a tf-idf score of 0"
   ]
  },
  {
   "cell_type": "code",
   "execution_count": null,
   "metadata": {
    "id": "ffzdDpp_JrGB"
   },
   "outputs": [],
   "source": [
    "#Write your code here to create the Document Term Matrix by transforming the complaints column present in df_clean.\n"
   ]
  },
  {
   "cell_type": "markdown",
   "metadata": {
    "id": "7Q9lwvNEJrGB"
   },
   "source": [
    "## Topic Modelling using NMF\n",
    "\n",
    "Non-Negative Matrix Factorization (NMF) is an unsupervised technique so there are no labeling of topics that the model will be trained on. The way it works is that, NMF decomposes (or factorizes) high-dimensional vectors into a lower-dimensional representation. These lower-dimensional vectors are non-negative which also means their coefficients are non-negative.\n",
    "\n",
    "In this task you have to perform the following:\n",
    "\n",
    "* Find the best number of clusters\n",
    "* Apply the best number to create word clusters\n",
    "* Inspect & validate the correction of each cluster wrt the complaints\n",
    "* Correct the labels if needed\n",
    "* Map the clusters to topics/cluster names"
   ]
  },
  {
   "cell_type": "code",
   "execution_count": null,
   "metadata": {
    "id": "amLT4omWJrGB"
   },
   "outputs": [],
   "source": [
    "from sklearn.decomposition import NMF"
   ]
  },
  {
   "cell_type": "markdown",
   "metadata": {
    "id": "0wYR1xUTJrGD"
   },
   "source": [
    "## Manual Topic Modeling\n",
    "You need to do take the trial & error approach to find the best num of topics for your NMF model.\n",
    "\n",
    "The only parameter that is required is the number of components i.e. the number of topics we want. This is the most crucial step in the whole topic modeling process and will greatly affect how good your final topics are."
   ]
  },
  {
   "cell_type": "code",
   "execution_count": null,
   "metadata": {
    "id": "sgd2A6bhJrGD"
   },
   "outputs": [],
   "source": [
    "#Load your nmf_model with the n_components i.e 5\n",
    "num_topics = #write the value you want to test out\n",
    "\n",
    "#keep the random_state =40\n",
    "nmf_model = #write your code here"
   ]
  },
  {
   "cell_type": "code",
   "execution_count": null,
   "metadata": {
    "id": "VPMDYbt_JrGE"
   },
   "outputs": [],
   "source": [
    "nmf_model.fit(dtm)\n",
    "len(tfidf.get_feature_names())"
   ]
  },
  {
   "cell_type": "code",
   "execution_count": null,
   "metadata": {
    "id": "16kRfat5JrGE"
   },
   "outputs": [],
   "source": [
    "#Print the Top15 words for each of the topics\n"
   ]
  },
  {
   "cell_type": "code",
   "execution_count": null,
   "metadata": {
    "id": "0OIT7LmFJrGF"
   },
   "outputs": [],
   "source": [
    "#Create the best topic for each complaint in terms of integer value 0,1,2,3 & 4\n",
    "\n"
   ]
  },
  {
   "cell_type": "code",
   "execution_count": null,
   "metadata": {
    "id": "peyYv-ORJrGF"
   },
   "outputs": [],
   "source": [
    "#Assign the best topic to each of the cmplaints in Topic Column\n",
    "\n",
    "df_clean['Topic'] = #write your code to assign topics to each rows."
   ]
  },
  {
   "cell_type": "code",
   "execution_count": null,
   "metadata": {
    "id": "fLh_Gf3nJrGF"
   },
   "outputs": [],
   "source": [
    "df_clean.head()"
   ]
  },
  {
   "cell_type": "code",
   "execution_count": null,
   "metadata": {
    "id": "aQKpufSPJrGG"
   },
   "outputs": [],
   "source": [
    "#Print the first 5 Complaint for each of the Topics\n",
    "df_clean=df_clean.groupby('Topic').head(5)\n",
    "df_clean.sort_values('Topic')"
   ]
  },
  {
   "cell_type": "markdown",
   "metadata": {
    "id": "piyLxzj6v07j"
   },
   "source": [
    "#### After evaluating the mapping, if the topics assigned are correct then assign these names to the relevant topic:\n",
    "* Bank Account services\n",
    "* Credit card or prepaid card\n",
    "* Theft/Dispute Reporting\n",
    "* Mortgage/Loan\n",
    "* Others"
   ]
  },
  {
   "cell_type": "code",
   "execution_count": null,
   "metadata": {
    "id": "TWpwDG4RJrGG"
   },
   "outputs": [],
   "source": [
    "#Create the dictionary of Topic names and Topics\n",
    "\n",
    "Topic_names = {   }\n",
    "#Replace Topics with Topic Names\n",
    "df_clean['Topic'] = df_clean['Topic'].map(Topic_names)"
   ]
  },
  {
   "cell_type": "code",
   "execution_count": null,
   "metadata": {
    "id": "-2ULY5K6JrGG"
   },
   "outputs": [],
   "source": [
    "df_clean"
   ]
  },
  {
   "cell_type": "markdown",
   "metadata": {
    "id": "7Mu0QBOcJrGH"
   },
   "source": [
    "## Supervised model to predict any new complaints to the relevant Topics.\n",
    "\n",
    "You have now build the model to create the topics for each complaints.Now in the below section you will use them to classify any new complaints.\n",
    "\n",
    "Since you will be using supervised learning technique we have to convert the topic names to numbers(numpy arrays only understand numbers)"
   ]
  },
  {
   "cell_type": "code",
   "execution_count": null,
   "metadata": {
    "id": "_U8J3J8wJrGH"
   },
   "outputs": [],
   "source": [
    "#Create the dictionary again of Topic names and Topics\n",
    "\n",
    "Topic_names = {   }\n",
    "#Replace Topics with Topic Names\n",
    "df_clean['Topic'] = df_clean['Topic'].map(Topic_names)"
   ]
  },
  {
   "cell_type": "code",
   "execution_count": null,
   "metadata": {
    "id": "BWIgJUkQJrGH"
   },
   "outputs": [],
   "source": [
    "df_clean"
   ]
  },
  {
   "cell_type": "code",
   "execution_count": null,
   "metadata": {
    "id": "Xx-FrbkWJrGH"
   },
   "outputs": [],
   "source": [
    "#Keep the columns\"complaint_what_happened\" & \"Topic\" only in the new dataframe --> training_data\n",
    "training_data="
   ]
  },
  {
   "cell_type": "code",
   "execution_count": null,
   "metadata": {
    "id": "lVg2pa12JrGI"
   },
   "outputs": [],
   "source": [
    "training_data"
   ]
  },
  {
   "cell_type": "markdown",
   "metadata": {
    "id": "280Vbqk-7a8M"
   },
   "source": [
    "####Apply the supervised models on the training data created. In this process, you have to do the following:\n",
    "* Create the vector counts using Count Vectoriser\n",
    "* Transform the word vecotr to tf-idf\n",
    "* Create the train & test data using the train_test_split on the tf-idf & topics\n"
   ]
  },
  {
   "cell_type": "code",
   "execution_count": null,
   "metadata": {
    "id": "oUlQpgkzJrGI"
   },
   "outputs": [],
   "source": [
    "\n",
    "#Write your code to get the Vector count\n",
    "\n",
    "\n",
    "#Write your code here to transform the word vector to tf-idf"
   ]
  },
  {
   "cell_type": "markdown",
   "metadata": {
    "id": "uMU3vj6w-wqL"
   },
   "source": [
    "You have to try atleast 3 models on the train & test data from these options:\n",
    "* Logistic regression\n",
    "* Decision Tree\n",
    "* Random Forest\n",
    "* Naive Bayes (optional)\n",
    "\n",
    "**Using the required evaluation metrics judge the tried models and select the ones performing the best**"
   ]
  },
  {
   "cell_type": "code",
   "execution_count": null,
   "metadata": {
    "id": "udLHpPsZJrGI"
   },
   "outputs": [],
   "source": [
    "# Write your code here to build any 3 models and evaluate them using the required metrics\n",
    "\n",
    "\n",
    "\n"
   ]
  },
  {
   "cell_type": "code",
   "execution_count": null,
   "metadata": {
    "id": "N2OznsObJrGP"
   },
   "outputs": [],
   "source": []
  }
 ],
 "metadata": {
  "colab": {
   "collapsed_sections": [
    "T9jD_6SeJrF3",
    "5DfCSbbmJrF4",
    "yYzD85nTJrGA",
    "piyLxzj6v07j",
    "280Vbqk-7a8M"
   ],
   "provenance": []
  },
  "kernelspec": {
   "display_name": "Python 3 (ipykernel)",
   "language": "python",
   "name": "python3"
  },
  "language_info": {
   "codemirror_mode": {
    "name": "ipython",
    "version": 3
   },
   "file_extension": ".py",
   "mimetype": "text/x-python",
   "name": "python",
   "nbconvert_exporter": "python",
   "pygments_lexer": "ipython3",
   "version": "3.11.7"
  }
 },
 "nbformat": 4,
 "nbformat_minor": 4
}
